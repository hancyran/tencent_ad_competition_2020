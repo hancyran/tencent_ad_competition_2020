{
 "cells": [
  {
   "cell_type": "code",
   "execution_count": 1,
   "metadata": {},
   "outputs": [],
   "source": [
    "import pandas as pd\n",
    "import numpy as np\n",
    "import sys\n",
    "import matplotlib.pyplot as plt"
   ]
  },
  {
   "cell_type": "code",
   "execution_count": 2,
   "metadata": {},
   "outputs": [],
   "source": [
    "users = pd.read_csv('user.csv')\n",
    "ads = pd.read_csv('ad.csv')\n",
    "log = pd.read_csv('click_log.csv')"
   ]
  },
  {
   "cell_type": "code",
   "execution_count": 4,
   "metadata": {},
   "outputs": [],
   "source": [
    "ads.replace('\\\\N', 0, inplace=True)\n",
    "# ads.fillna(0, inplace=True)\n",
    "ads.product_id = ads.product_id.astype(np.int64)\n",
    "ads.industry = ads.industry.astype(np.int64)"
   ]
  },
  {
   "cell_type": "code",
   "execution_count": 5,
   "metadata": {},
   "outputs": [],
   "source": [
    "merged_log = pd.merge(log, users, on='user_id')\n",
    "merged_log = pd.merge(merged_log, ads, on='creative_id')"
   ]
  },
  {
   "cell_type": "code",
   "execution_count": 6,
   "metadata": {},
   "outputs": [
    {
     "data": {
      "text/html": [
       "<div>\n",
       "<style scoped>\n",
       "    .dataframe tbody tr th:only-of-type {\n",
       "        vertical-align: middle;\n",
       "    }\n",
       "\n",
       "    .dataframe tbody tr th {\n",
       "        vertical-align: top;\n",
       "    }\n",
       "\n",
       "    .dataframe thead th {\n",
       "        text-align: right;\n",
       "    }\n",
       "</style>\n",
       "<table border=\"1\" class=\"dataframe\">\n",
       "  <thead>\n",
       "    <tr style=\"text-align: right;\">\n",
       "      <th></th>\n",
       "      <th>time</th>\n",
       "      <th>user_id</th>\n",
       "      <th>creative_id</th>\n",
       "      <th>click_times</th>\n",
       "      <th>age</th>\n",
       "      <th>gender</th>\n",
       "      <th>ad_id</th>\n",
       "      <th>product_id</th>\n",
       "      <th>product_category</th>\n",
       "      <th>advertiser_id</th>\n",
       "      <th>industry</th>\n",
       "    </tr>\n",
       "  </thead>\n",
       "  <tbody>\n",
       "    <tr>\n",
       "      <td>0</td>\n",
       "      <td>9</td>\n",
       "      <td>30920</td>\n",
       "      <td>567330</td>\n",
       "      <td>1</td>\n",
       "      <td>2</td>\n",
       "      <td>1</td>\n",
       "      <td>504423</td>\n",
       "      <td>30673</td>\n",
       "      <td>3</td>\n",
       "      <td>32638</td>\n",
       "      <td>319</td>\n",
       "    </tr>\n",
       "    <tr>\n",
       "      <td>1</td>\n",
       "      <td>15</td>\n",
       "      <td>320815</td>\n",
       "      <td>567330</td>\n",
       "      <td>1</td>\n",
       "      <td>3</td>\n",
       "      <td>1</td>\n",
       "      <td>504423</td>\n",
       "      <td>30673</td>\n",
       "      <td>3</td>\n",
       "      <td>32638</td>\n",
       "      <td>319</td>\n",
       "    </tr>\n",
       "    <tr>\n",
       "      <td>2</td>\n",
       "      <td>11</td>\n",
       "      <td>355089</td>\n",
       "      <td>567330</td>\n",
       "      <td>1</td>\n",
       "      <td>1</td>\n",
       "      <td>1</td>\n",
       "      <td>504423</td>\n",
       "      <td>30673</td>\n",
       "      <td>3</td>\n",
       "      <td>32638</td>\n",
       "      <td>319</td>\n",
       "    </tr>\n",
       "    <tr>\n",
       "      <td>3</td>\n",
       "      <td>9</td>\n",
       "      <td>363442</td>\n",
       "      <td>567330</td>\n",
       "      <td>1</td>\n",
       "      <td>2</td>\n",
       "      <td>1</td>\n",
       "      <td>504423</td>\n",
       "      <td>30673</td>\n",
       "      <td>3</td>\n",
       "      <td>32638</td>\n",
       "      <td>319</td>\n",
       "    </tr>\n",
       "    <tr>\n",
       "      <td>4</td>\n",
       "      <td>14</td>\n",
       "      <td>370513</td>\n",
       "      <td>567330</td>\n",
       "      <td>1</td>\n",
       "      <td>4</td>\n",
       "      <td>1</td>\n",
       "      <td>504423</td>\n",
       "      <td>30673</td>\n",
       "      <td>3</td>\n",
       "      <td>32638</td>\n",
       "      <td>319</td>\n",
       "    </tr>\n",
       "    <tr>\n",
       "      <td>...</td>\n",
       "      <td>...</td>\n",
       "      <td>...</td>\n",
       "      <td>...</td>\n",
       "      <td>...</td>\n",
       "      <td>...</td>\n",
       "      <td>...</td>\n",
       "      <td>...</td>\n",
       "      <td>...</td>\n",
       "      <td>...</td>\n",
       "      <td>...</td>\n",
       "      <td>...</td>\n",
       "    </tr>\n",
       "    <tr>\n",
       "      <td>30082766</td>\n",
       "      <td>83</td>\n",
       "      <td>309198</td>\n",
       "      <td>4049817</td>\n",
       "      <td>1</td>\n",
       "      <td>2</td>\n",
       "      <td>1</td>\n",
       "      <td>3476184</td>\n",
       "      <td>2819</td>\n",
       "      <td>2</td>\n",
       "      <td>2466</td>\n",
       "      <td>253</td>\n",
       "    </tr>\n",
       "    <tr>\n",
       "      <td>30082767</td>\n",
       "      <td>52</td>\n",
       "      <td>309198</td>\n",
       "      <td>2459911</td>\n",
       "      <td>1</td>\n",
       "      <td>2</td>\n",
       "      <td>1</td>\n",
       "      <td>2119242</td>\n",
       "      <td>161</td>\n",
       "      <td>2</td>\n",
       "      <td>676</td>\n",
       "      <td>231</td>\n",
       "    </tr>\n",
       "    <tr>\n",
       "      <td>30082768</td>\n",
       "      <td>5</td>\n",
       "      <td>309198</td>\n",
       "      <td>452252</td>\n",
       "      <td>1</td>\n",
       "      <td>2</td>\n",
       "      <td>1</td>\n",
       "      <td>402185</td>\n",
       "      <td>2870</td>\n",
       "      <td>2</td>\n",
       "      <td>7158</td>\n",
       "      <td>247</td>\n",
       "    </tr>\n",
       "    <tr>\n",
       "      <td>30082769</td>\n",
       "      <td>76</td>\n",
       "      <td>309198</td>\n",
       "      <td>3686554</td>\n",
       "      <td>2</td>\n",
       "      <td>2</td>\n",
       "      <td>1</td>\n",
       "      <td>3172440</td>\n",
       "      <td>3979</td>\n",
       "      <td>2</td>\n",
       "      <td>52506</td>\n",
       "      <td>247</td>\n",
       "    </tr>\n",
       "    <tr>\n",
       "      <td>30082770</td>\n",
       "      <td>50</td>\n",
       "      <td>309198</td>\n",
       "      <td>2386973</td>\n",
       "      <td>1</td>\n",
       "      <td>2</td>\n",
       "      <td>1</td>\n",
       "      <td>2057811</td>\n",
       "      <td>1946</td>\n",
       "      <td>2</td>\n",
       "      <td>17757</td>\n",
       "      <td>259</td>\n",
       "    </tr>\n",
       "  </tbody>\n",
       "</table>\n",
       "<p>30082771 rows × 11 columns</p>\n",
       "</div>"
      ],
      "text/plain": [
       "          time  user_id  creative_id  click_times  age  gender    ad_id  \\\n",
       "0            9    30920       567330            1    2       1   504423   \n",
       "1           15   320815       567330            1    3       1   504423   \n",
       "2           11   355089       567330            1    1       1   504423   \n",
       "3            9   363442       567330            1    2       1   504423   \n",
       "4           14   370513       567330            1    4       1   504423   \n",
       "...        ...      ...          ...          ...  ...     ...      ...   \n",
       "30082766    83   309198      4049817            1    2       1  3476184   \n",
       "30082767    52   309198      2459911            1    2       1  2119242   \n",
       "30082768     5   309198       452252            1    2       1   402185   \n",
       "30082769    76   309198      3686554            2    2       1  3172440   \n",
       "30082770    50   309198      2386973            1    2       1  2057811   \n",
       "\n",
       "          product_id  product_category  advertiser_id  industry  \n",
       "0              30673                 3          32638       319  \n",
       "1              30673                 3          32638       319  \n",
       "2              30673                 3          32638       319  \n",
       "3              30673                 3          32638       319  \n",
       "4              30673                 3          32638       319  \n",
       "...              ...               ...            ...       ...  \n",
       "30082766        2819                 2           2466       253  \n",
       "30082767         161                 2            676       231  \n",
       "30082768        2870                 2           7158       247  \n",
       "30082769        3979                 2          52506       247  \n",
       "30082770        1946                 2          17757       259  \n",
       "\n",
       "[30082771 rows x 11 columns]"
      ]
     },
     "execution_count": 6,
     "metadata": {},
     "output_type": "execute_result"
    }
   ],
   "source": [
    "merged_log"
   ]
  },
  {
   "cell_type": "markdown",
   "metadata": {},
   "source": [
    "# Stat"
   ]
  },
  {
   "cell_type": "markdown",
   "metadata": {},
   "source": [
    "***\n",
    "### user.csv: 900000 rows\n",
    "* user_id - num:900000; range:1-900000 main_key\n",
    "* *age* - 1-10\n",
    "* *gender* - 1,2\n",
    "***\n",
    "### ads.csv: 2481135 rows\n",
    "* creative_id - num:2481135 main_key\n",
    "* ad_id - num:2264190 duplicate\n",
    "* product_id - num:33273 range: 1-44313 exist_null: '\\\\N'(92952) \n",
    "* **product_category** - range:1-18\n",
    "* advertiser_id - num:52090 duplicate\n",
    "* **industry** - num:326 range: 1-335 exist_null: '\\\\N'(101048)\n",
    "***\n",
    "### click_log.csv: 30082771 rows\n",
    "* **time** - range:1-91\n",
    "* user_id - num:900000; range:1-900000 foreign_key -> users\n",
    "* creative_id - num:2481135; range:1-4445718 foreign_key -> ads\n",
    "* **click_times** - range:1-152"
   ]
  },
  {
   "cell_type": "markdown",
   "metadata": {},
   "source": [
    "# For Long Tail Features"
   ]
  },
  {
   "cell_type": "markdown",
   "metadata": {},
   "source": [
    "* **log => click_times**: <br>\n",
    "    top1 - 1(0.945), <br>\n",
    "    top2 - 2(0.05), <br>\n",
    "    top3 - 3/4(0.004), <br>\n",
    "    top4 - 5/6/7/8(0.0004), <br>\n",
    "    top5 - 9-15, <br>\n",
    "    top6 - 16-20, <br>\n",
    "    top7 - 21-30, <br>\n",
    "    top8 - 31-40, <br>\n",
    "    top9 - 41-60, <br>\n",
    "    top10 - >60<br>\n",
    "* **user => age**: <br>\n",
    "    top1 - 2/3/4(0.56), <br>\n",
    "    top2 - 1(0.04), <br>\n",
    "    top3 - 5/6/7(0.33), <br>\n",
    "    top4 - 8/9/10(0.12)<br>\n",
    "* **ads => product_category**: <br>\n",
    "    top1 - 2(0.37), <br>\n",
    "    top2 - 18(0.27), <br>\n",
    "    top3 - 3/5/8(0.30), <br>\n",
    "    top4 - 13/17/4/12/6(0.05), <br>\n",
    "    top5 - 7/16/9/11(0.008), <br>\n",
    "    top6 - 1/15, <br>\n",
    "    top7 - 10/14<br>\n",
    "* **ads => industry**: <br>\n",
    "    top1 - 247/319/6/322/0(>100000, 0.35), <br>\n",
    "    top2 - 242, 238, 326,  54,  73, 248, 317, 329,  25,  36,  47,  27,  21, 259, 133,  60, 297,  40, 253, 246,  13,  24, 252,  26, 289,  74, 296,  28, 207, 215,  34, 328, 216, 302, 200, 202,  88, 300, 217, 277, 176,  84,   5, 203,  86, 147(10000<x<100000, [5:51], 0.52)<br>\n",
    "    top3 - (1000<x<10000, [52:131], 0.11)<br>\n",
    "    top4 - (100<x<1000, [131:201], 0.013)<br>\n",
    "    top5 - (x<100, [201:], 0.001)<br>"
   ]
  },
  {
   "cell_type": "markdown",
   "metadata": {},
   "source": [
    "# For Feature Combination"
   ]
  },
  {
   "cell_type": "markdown",
   "metadata": {},
   "source": [
    "* ad: ad_id => creative_id\n",
    "* ad: industry => advertiser_id\n",
    "* ad: product_category => product_id"
   ]
  },
  {
   "cell_type": "markdown",
   "metadata": {},
   "source": [
    "* user => age + gender"
   ]
  },
  {
   "cell_type": "code",
   "execution_count": 100,
   "metadata": {},
   "outputs": [],
   "source": [
    "users['new'] = users.age + 100 * users.gender"
   ]
  },
  {
   "cell_type": "code",
   "execution_count": 104,
   "metadata": {
    "collapsed": true
   },
   "outputs": [
    {
     "data": {
      "image/png": "[encoded data removed]",
      "text/plain": [
       "<Figure size 1080x468 with 1 Axes>"
      ]
     },
     "metadata": {
      "needs_background": "light"
     },
     "output_type": "display_data"
    }
   ],
   "source": [
    "new_feat = users.groupby(['new']).count()['age'].index\n",
    "nums = users.groupby(['new']).count()['age']\n",
    "plt.figure(figsize=(15, 6.5))\n",
    "plt.bar(new_feat, nums)\n",
    "plt.show()"
   ]
  },
  {
   "cell_type": "code",
   "execution_count": 10,
   "metadata": {
    "scrolled": false
   },
   "outputs": [
    {
     "data": {
      "image/png": "[encoded data removed]",
      "text/plain": [
       "<Figure size 1080x468 with 1 Axes>"
      ]
     },
     "metadata": {
      "needs_background": "light"
     },
     "output_type": "display_data"
    }
   ],
   "source": [
    "preds = pd.read_csv('batch128_gender.csv')\n",
    "preds['new'] = preds.predicted_age + 100 * preds.predicted_gender\n",
    "new_feat = preds.groupby(['new']).count()['predicted_age'].index\n",
    "nums = preds.groupby(['new']).count()['predicted_age']\n",
    "plt.figure(figsize=(15, 6.5))\n",
    "plt.bar(new_feat, nums)\n",
    "plt.show()"
   ]
  },
  {
   "cell_type": "markdown",
   "metadata": {},
   "source": [
    "# For Stat Features (main key: user_id)"
   ]
  },
  {
   "cell_type": "markdown",
   "metadata": {},
   "source": [
    "### importance: product_category > industry > product_id >  advertiser_id > ad_id > creative_id"
   ]
  },
  {
   "cell_type": "markdown",
   "metadata": {},
   "source": [
    "### count\n",
    "* ad_id_count\n",
    "* ad_id_\n",
    "\n",
    "* product_category_all\n",
    "* product_category_count_top1\n",
    "* product_category_count_top3"
   ]
  },
  {
   "cell_type": "markdown",
   "metadata": {},
   "source": [
    "### overall count - key-value memory\n",
    "* **overall count + product_category**\n",
    "* overall count + industry\n",
    "* overall count + product_id\n",
    "* overall count + advertiser_id\n",
    "* overall count + ad_id\n",
    "* overall count + creative_id"
   ]
  },
  {
   "cell_type": "markdown",
   "metadata": {},
   "source": [
    "### time range!!!\n",
    "* **range + product_category**\n",
    "* range + industry\n",
    "* range + product_id\n",
    "* range + advertiser_id\n",
    "* range + ad_id\n",
    "* range + creative_id"
   ]
  },
  {
   "cell_type": "markdown",
   "metadata": {},
   "source": [
    "### click rate (user_single_ad_click/user_click_count) - key-value memory\n",
    "* **rate + product_category**\n",
    "* rate + industry\n",
    "* rate + product_id\n",
    "* rate + advertiser_id\n",
    "* rate + ad_id\n",
    "* rate + creative_id"
   ]
  },
  {
   "cell_type": "markdown",
   "metadata": {},
   "source": [
    "### click count - key-value memory\n",
    "* **count + product_category**\n",
    "* count + industry\n",
    "* count + product_id\n",
    "* count + advertiser_id\n",
    "* count + ad_id\n",
    "* count + creative_id"
   ]
  },
  {
   "cell_type": "markdown",
   "metadata": {},
   "source": [
    "### second order key-value memory"
   ]
  },
  {
   "cell_type": "markdown",
   "metadata": {},
   "source": [
    "# For Embedding"
   ]
  },
  {
   "cell_type": "markdown",
   "metadata": {},
   "source": [
    "### word2vec\n",
    "* **product_category_embedding**\n",
    "* **industry_embedding**\n",
    "* **advertiser_id_embedding**\n",
    "* **product_id_embedding**\n",
    "* ad_id_embedding\n",
    "* creative_id_embedding\n",
    "<br><br>\n",
    "* ad_id_creative_id_embedding\n",
    "* **industry_advertiser_id_embedding**\n",
    "* **product_category_product_id_embedding**\n",
    "\n",
    "### NOTE: add embedding layer for primary-foreign pair specifically"
   ]
  },
  {
   "cell_type": "markdown",
   "metadata": {},
   "source": [
    "### general word2vec (to be extended - time range) \n",
    "* **product_category_embedding_count_top3**\n",
    "* **product_category_embedding_count_top6**\n",
    "<br><br>\n",
    "* **industry_embedding_count_top3**\n",
    "* **industry_embedding_count_top6**\n",
    "* **industry_embedding_count_top10**\n",
    "<br><br>\n",
    "* **advertiser_id_embedding_count_top2**\n",
    "* **advertiser_id_embedding_count_top5**\n",
    "* **advertiser_id_embedding_count_top10**\n",
    "<br><br>\n",
    "(contain null)\n",
    "* **product_id_embedding_count_top5**\n",
    "* **product_id_embedding_count_top9**\n",
    "* **product_id_embedding_count_top15**\n",
    "<br><br>\n",
    "* ad_id_embedding_count_top2\n",
    "* ad_id_embedding_count_top8\n",
    "<br><br>\n",
    "* creative_id_embedding_count_top6\n",
    "* creative_id_embedding_count_top10"
   ]
  },
  {
   "cell_type": "markdown",
   "metadata": {},
   "source": [
    "### field-aware embedding\n",
    "* ad_id_creative_id_field_embedding\n",
    "* **industry_advertiser_id_field_embedding**\n",
    "* **product_category_product_id_field_embedding**"
   ]
  },
  {
   "cell_type": "markdown",
   "metadata": {},
   "source": [
    "### graph embedding (DeepWalk)\n",
    "* product_category_user_deepwalk_embedding\n",
    "* **industry_user_deepwalk_embedding**\n",
    "* **advertiser_id_user_deepwalk_embedding**\n",
    "* **product_id_user_deepwalk_embedding**\n",
    "* ad_id_user_deepwalk_embedding\n",
    "* creative_id_user_deepwalk_embedding"
   ]
  },
  {
   "cell_type": "markdown",
   "metadata": {},
   "source": [
    "### graph encoding (GCN)\n",
    "* product_category_user_gcn_embedding\n",
    "* **industry_user_gcn_embedding**\n",
    "* **advertiser_id_user_gcn_embedding**\n",
    "* **product_id_user_gcn_embedding**\n",
    "* ad_id_user_gcn_embedding\n",
    "* creative_id_user_gcn_embedding"
   ]
  },
  {
   "cell_type": "markdown",
   "metadata": {},
   "source": [
    "# Embedding x Time"
   ]
  },
  {
   "cell_type": "markdown",
   "metadata": {},
   "source": [
    "### oriented graph embedding (DeepWalk)\n",
    "* product_category_user_time_deepwalk_embedding\n",
    "* **industry_user_time_deepwalk_embedding**\n",
    "* **advertiser_id_user_time_deepwalk_embedding**\n",
    "* **product_id_user_time_deepwalk_embedding**\n",
    "* ad_id_user_time_deepwalk_embedding\n",
    "* creative_id_user_time_deepwalk_embedding"
   ]
  }
 ],
 "metadata": {
  "kernelspec": {
   "display_name": "Python 3",
   "language": "python",
   "name": "python3"
  },
  "language_info": {
   "codemirror_mode": {
    "name": "ipython",
    "version": 3
   },
   "file_extension": ".py",
   "mimetype": "text/x-python",
   "name": "python",
   "nbconvert_exporter": "python",
   "pygments_lexer": "ipython3",
   "version": "3.7.4"
  }
 },
 "nbformat": 4,
 "nbformat_minor": 4
}
